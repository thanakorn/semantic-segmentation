{
 "metadata": {
  "language_info": {
   "codemirror_mode": {
    "name": "ipython",
    "version": 3
   },
   "file_extension": ".py",
   "mimetype": "text/x-python",
   "name": "python",
   "nbconvert_exporter": "python",
   "pygments_lexer": "ipython3",
   "version": "3.7.9-final"
  },
  "orig_nbformat": 2,
  "kernelspec": {
   "name": "python3",
   "display_name": "Python 3.7.9 64-bit",
   "metadata": {
    "interpreter": {
     "hash": "63f5c4c81e28ff0238c8c3b729b1fd8b6aec87fa24f076e3e02e721acc6acb72"
    }
   }
  }
 },
 "nbformat": 4,
 "nbformat_minor": 2,
 "cells": [
  {
   "cell_type": "code",
   "execution_count": 1,
   "metadata": {},
   "outputs": [],
   "source": [
    "import torch\n",
    "from model.unet.encoder import Encoder\n",
    "from model.unet.decoder import Decoder\n",
    "from model.unet.unet import UNet"
   ]
  },
  {
   "cell_type": "code",
   "execution_count": 2,
   "metadata": {},
   "outputs": [
    {
     "output_type": "stream",
     "name": "stdout",
     "text": [
      "torch.Size([1, 64, 568, 568])\ntorch.Size([1, 128, 280, 280])\ntorch.Size([1, 256, 136, 136])\ntorch.Size([1, 512, 64, 64])\ntorch.Size([1, 1024, 28, 28])\n"
     ]
    }
   ],
   "source": [
    "encoder = Encoder()\n",
    "x = torch.randn(1, 3, 572, 572)\n",
    "features = encoder(x)\n",
    "for f in features: print(f.shape)"
   ]
  },
  {
   "cell_type": "code",
   "execution_count": 3,
   "metadata": {},
   "outputs": [
    {
     "output_type": "execute_result",
     "data": {
      "text/plain": [
       "torch.Size([1, 64, 388, 388])"
      ]
     },
     "metadata": {},
     "execution_count": 3
    }
   ],
   "source": [
    "decoder = Decoder()\n",
    "x = torch.randn(1, 1024, 28, 28)\n",
    "decoder(x, features[::-1][1:]).shape"
   ]
  },
  {
   "cell_type": "code",
   "execution_count": 10,
   "metadata": {},
   "outputs": [
    {
     "output_type": "stream",
     "name": "stdout",
     "text": [
      "tensor([[[[ 0.0599,  0.0599,  0.0913,  ...,  0.0775,  0.0775,  0.0714],\n          [ 0.0599,  0.0599,  0.0913,  ...,  0.0775,  0.0775,  0.0714],\n          [ 0.0393,  0.0393,  0.0744,  ...,  0.0688,  0.0688,  0.0412],\n          ...,\n          [ 0.0636,  0.0636,  0.0849,  ...,  0.0388,  0.0388,  0.0779],\n          [ 0.0636,  0.0636,  0.0849,  ...,  0.0388,  0.0388,  0.0779],\n          [ 0.0542,  0.0542,  0.0757,  ...,  0.0609,  0.0609,  0.0580]],\n\n         [[-0.0355, -0.0355, -0.0309,  ..., -0.0542, -0.0542, -0.0101],\n          [-0.0355, -0.0355, -0.0309,  ..., -0.0542, -0.0542, -0.0101],\n          [-0.0259, -0.0259, -0.0428,  ..., -0.0064, -0.0064, -0.0401],\n          ...,\n          [-0.0299, -0.0299, -0.0323,  ..., -0.0190, -0.0190, -0.0476],\n          [-0.0299, -0.0299, -0.0323,  ..., -0.0190, -0.0190, -0.0476],\n          [-0.0360, -0.0360, -0.0295,  ..., -0.0227, -0.0227, -0.0229]]]])\ntorch.Size([1, 2, 512, 512])\n"
     ]
    }
   ],
   "source": [
    "unet = UNet(num_classes=2, output_size=(512,  512))\n",
    "x = torch.randn(1, 3, 512, 512)\n",
    "out = unet(x)\n",
    "print(out.data)\n",
    "print(out.shape)"
   ]
  },
  {
   "cell_type": "code",
   "execution_count": null,
   "metadata": {},
   "outputs": [],
   "source": []
  }
 ]
}